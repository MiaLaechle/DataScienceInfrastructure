{
 "cells": [
  {
   "cell_type": "markdown",
   "metadata": {
    "id": "bPW7lnQgygRa"
   },
   "source": [
    "Run Query: Find all the tracks whose name starts with 'All'. **How many total records there are for this query?**"
   ]
  },
  {
   "cell_type": "code",
   "execution_count": null,
   "metadata": {
    "id": "z53a0pcIyifp"
   },
   "outputs": [],
   "source": [
    "select * from tracks where lower(name) like 'you%'"
   ]
  },
  {
   "cell_type": "markdown",
   "metadata": {
    "id": "58RIwz86yivs"
   },
   "source": [
    "Run Query: Find all the customer emails that start with \"J\" and are from gmail.com."
   ]
  },
  {
   "cell_type": "code",
   "execution_count": null,
   "metadata": {
    "id": "b16LHsVKzBKS"
   },
   "outputs": [],
   "source": [
    "select * from customers where lower(email) like 'j%' and  lower(email)  like  '%gmail.com'"
   ]
  },
  {
   "cell_type": "markdown",
   "metadata": {},
   "source": [
    "Run Query: Find the albums with 12 or more tracks."
   ]
  },
  {
   "cell_type": "code",
   "execution_count": null,
   "metadata": {},
   "outputs": [],
   "source": [
    "select album_id, count(t.id) from albums join tracks t on albums.id = t.album_id\n",
    "                             group by  album_id having count(t.id)>11"
   ]
  },
  {
   "cell_type": "markdown",
   "metadata": {
    "id": "jDxz4RSezQir",
    "pycharm": {
     "name": "#%% md\n"
    }
   },
   "source": [
    "Create a list of album titles and the unit prices for the artist \"Audioslave\". "
   ]
  },
  {
   "cell_type": "code",
   "execution_count": null,
   "metadata": {
    "pycharm": {
     "name": "#%%\n"
    }
   },
   "outputs": [],
   "source": [
    "select a.name, album_id, track_id, t.unit_price from albums join artists a on albums.artist_id = a.id\n",
    "    join tracks t on albums.id = t.album_id join invoice_lines il on t.id = il.track_id\n",
    "where a.name ='Audioslave'\n"
   ]
  },
  {
   "cell_type": "markdown",
   "metadata": {
    "id": "6TVnINglAGsv"
   },
   "source": [
    "Using a subquery, find the names of all the tracks for the album \"Californication\"."
   ]
  },
  {
   "cell_type": "code",
   "execution_count": null,
   "metadata": {
    "id": "dUppFfETAM9U"
   },
   "outputs": [],
   "source": [
    "SELECT Name,album_id FROM tracks WHERE album_id IN (SELECT album_id FROM albums where lower(title) like 'californication')"
   ]
  },
  {
   "cell_type": "markdown",
   "metadata": {
    "id": "vulChgqDANLU"
   },
   "source": [
    "Find the total number of invoices for each customer along with the customer's full name, city and email."
   ]
  },
  {
   "cell_type": "code",
   "execution_count": null,
   "metadata": {
    "id": "sGRBCv0lAOsq"
   },
   "outputs": [],
   "source": [
    "select customer_id,  first_name,last_name,email, city,  COUNT(i.id) from Customers join invoices i on customers.id = i.customer_id group by customer_id, email, last_name, first_name,city"
   ]
  },
  {
   "cell_type": "markdown",
   "metadata": {
    "id": "lyJ4BHyIAO2v"
   },
   "source": [
    "After running the query described above, what is the email address of the 5th person, František Wichterlová?"
   ]
  },
  {
   "cell_type": "code",
   "execution_count": null,
   "metadata": {
    "id": "5NrjVMXtARuo"
   },
   "outputs": [],
   "source": [
    "frantisekw@jetbrains.com"
   ]
  },
  {
   "cell_type": "markdown",
   "metadata": {
    "id": "7goiyepjAR7T"
   },
   "source": [
    "Retrieve the track name, album, artistID, and trackID for all the albums."
   ]
  },
  {
   "cell_type": "code",
   "execution_count": null,
   "metadata": {
    "id": "9rPwWSkFATpd"
   },
   "outputs": [],
   "source": [
    "select t.name, a.title, t.id from artists inner join albums a on artists.id = a.artist_id inner join tracks t on a.id = t.album_id\n"
   ]
  },
  {
   "cell_type": "markdown",
   "metadata": {
    "id": "V0CwhMAbAVqr"
   },
   "source": [
    "What is the song title of trackID 12 from the \"For Those About to Rock We Salute You\" ?"
   ]
  },
  {
   "cell_type": "code",
   "execution_count": null,
   "metadata": {
    "id": "BYzFVF9zAYhV"
   },
   "outputs": [],
   "source": [
    "Breaking The Rules"
   ]
  },
  {
   "cell_type": "markdown",
   "metadata": {
    "id": "qiIaQQX1AYrq"
   },
   "source": [
    "Retrieve a list with the managers last name, and the last name of the employees who report to him or her. **Who are the reports for the manager named Mitchell?**"
   ]
  },
  {
   "cell_type": "code",
   "execution_count": null,
   "metadata": {
    "id": "AQZBCthEAftB"
   },
   "outputs": [],
   "source": [
    "select mgr.last_name manager, e.last_name employee from employees e left join employees mgr on e.reports_to = mgr.id"
   ]
  },
  {
   "cell_type": "markdown",
   "metadata": {
    "id": "6gZBptiOAh2c"
   },
   "source": [
    "Find the name and ID of the artists who do not have albums. "
   ]
  },
  {
   "cell_type": "code",
   "execution_count": null,
   "metadata": {
    "id": "IgbisBHkAkU4"
   },
   "outputs": [],
   "source": [
    "King, Callahan"
   ]
  },
  {
   "cell_type": "markdown",
   "metadata": {
    "id": "lpETQyAhAkgL"
   },
   "source": [
    "Use a UNION to create a list of all the employee's and customer's first names and last names ordered by the last name in descending order. **Determine what is the last name of the 6th record** Remember to order things in descending order to be sure to get the correct answer."
   ]
  },
  {
   "cell_type": "code",
   "execution_count": null,
   "metadata": {
    "id": "zLWDnZ5AArVK"
   },
   "outputs": [],
   "source": [
    "select e.first_name, e.last_name from Employees e UNION select c.first_name, c.last_name from Customers c order by last_name DESC"
   ]
  },
  {
   "cell_type": "markdown",
   "metadata": {
    "id": "E-HmEIsZArpl"
   },
   "source": [
    "See if there are any customers who have a different city listed in their billing city versus their customer city."
   ]
  },
  {
   "cell_type": "code",
   "execution_count": null,
   "metadata": {
    "id": "Bi4tcpV-AuJM"
   },
   "outputs": [],
   "source": [
    "select c.id, c.first_name, c.last_name, c.City, i.billing_city from Customers c join invoices i on c.id = i.customer_id where city <> billing_city\n"
   ]
  }
 ],
 "metadata": {
  "colab": {
   "collapsed_sections": [],
   "name": "Assignment-5.ipynb",
   "provenance": []
  },
  "kernelspec": {
   "display_name": "Python 3",
   "language": "python",
   "name": "python3"
  },
  "language_info": {
   "codemirror_mode": {
    "name": "ipython",
    "version": 3
   },
   "file_extension": ".py",
   "mimetype": "text/x-python",
   "name": "python",
   "nbconvert_exporter": "python",
   "pygments_lexer": "ipython3",
   "version": "3.8.3"
  }
 },
 "nbformat": 4,
 "nbformat_minor": 1
}
